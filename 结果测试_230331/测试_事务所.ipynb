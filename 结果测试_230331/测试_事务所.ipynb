{
 "cells": [
  {
   "cell_type": "code",
   "execution_count": 1,
   "outputs": [],
   "source": [
    "import numpy as np\n",
    "import pandas as pd\n",
    "pd.set_option('display.float_format', lambda x: '%.3f' %x)\n",
    "# pd.set_option('display.max_columns', None)\n",
    "# pd.set_option('display.max_rows', None)\n"
   ],
   "metadata": {
    "collapsed": false,
    "ExecuteTime": {
     "start_time": "2023-04-10T23:30:45.868549Z",
     "end_time": "2023-04-10T23:30:46.100726Z"
    }
   }
  },
  {
   "cell_type": "code",
   "execution_count": 2,
   "outputs": [],
   "source": [
    "path = '/Users/zhuangyuhao/PycharmProjects/AC_model/'\n",
    "\n",
    "dev = pd.read_excel(path + '结果测试_230331/会计事务所数据检查_230407.xlsx')\n",
    "check = pd.read_excel(path + '整合事务所模型_20220919/tmp2/事务所表_230403.xlsx')"
   ],
   "metadata": {
    "collapsed": false,
    "ExecuteTime": {
     "start_time": "2023-04-10T23:30:46.101411Z",
     "end_time": "2023-04-10T23:30:46.473175Z"
    }
   }
  },
  {
   "cell_type": "code",
   "execution_count": 3,
   "outputs": [],
   "source": [
    "dev.drop(columns=['id', 'name', 'priority', 'describe', 'name.1', 'factor_id'], inplace=True)\n",
    "dev.dropna(subset='org_name', inplace=True)\n",
    "dev.rename(columns={'org_name': 'AF_id_name',\n",
    "                    'code': 'indicator_code',\n",
    "                    'year': 'AF_id_year',\n",
    "                    'value': 'indicator_value'},\n",
    "           inplace=True)"
   ],
   "metadata": {
    "collapsed": false,
    "ExecuteTime": {
     "start_time": "2023-04-10T23:30:46.475282Z",
     "end_time": "2023-04-10T23:30:46.477654Z"
    }
   }
  },
  {
   "cell_type": "code",
   "execution_count": 4,
   "outputs": [],
   "source": [
    "check.fillna(-999999.9999, inplace=True)\n",
    "check.rename(columns={'AF_CYD_factor01': 'AF_id_name',\n",
    "                      'AF_CYD_factor04': 'AF_id_year'},\n",
    "             inplace=True)"
   ],
   "metadata": {
    "collapsed": false,
    "ExecuteTime": {
     "start_time": "2023-04-10T23:30:46.478392Z",
     "end_time": "2023-04-10T23:30:46.480297Z"
    }
   }
  },
  {
   "cell_type": "code",
   "execution_count": 5,
   "outputs": [],
   "source": [
    "check_melted = check.melt(id_vars=['AF_id_name', 'AF_id_year'],\n",
    "                          value_vars=check.columns[3:],\n",
    "                          var_name='indicator_code',\n",
    "                          value_name='indicator_value_check')"
   ],
   "metadata": {
    "collapsed": false,
    "ExecuteTime": {
     "start_time": "2023-04-10T23:30:46.482640Z",
     "end_time": "2023-04-10T23:30:46.485133Z"
    }
   }
  },
  {
   "cell_type": "code",
   "execution_count": 6,
   "outputs": [],
   "source": [
    "check_result = dev.merge(check_melted, on=['AF_id_name', 'AF_id_year', 'indicator_code'], how='left')\n",
    "check_result['indicator_value_check'] = check_result['indicator_value_check'].astype(float)\n",
    "check_result['indicator_value'] = check_result['indicator_value'].astype(float)"
   ],
   "metadata": {
    "collapsed": false,
    "ExecuteTime": {
     "start_time": "2023-04-10T23:30:46.485838Z",
     "end_time": "2023-04-10T23:30:46.490220Z"
    }
   }
  },
  {
   "cell_type": "code",
   "execution_count": 7,
   "outputs": [],
   "source": [
    "check_result['match'] = np.where(check_result.indicator_value != check_result.indicator_value_check, 0, 1)"
   ],
   "metadata": {
    "collapsed": false,
    "ExecuteTime": {
     "start_time": "2023-04-10T23:30:46.490992Z",
     "end_time": "2023-04-10T23:30:46.492310Z"
    }
   }
  },
  {
   "cell_type": "code",
   "execution_count": 8,
   "outputs": [
    {
     "data": {
      "text/plain": "     AF_id_name indicator_code  AF_id_year  indicator_value  \\\n0      上会会计师事务所    AF_factor01        2021           22.000   \n1      上会会计师事务所    AF_factor02        2021          445.000   \n2      上会会计师事务所    AF_factor03        2021            8.000   \n3      上会会计师事务所    AF_factor04        2021           55.000   \n4      上会会计师事务所    AF_factor05        2021     60499000.000   \n...         ...            ...         ...              ...   \n7123   鹏盛会计师事务所    AF_factor50        2019            0.000   \n7124   鹏盛会计师事务所    AF_factor50        2019            0.000   \n7125   鹏盛会计师事务所    AF_factor50        2019            0.000   \n7126   鹏盛会计师事务所    AF_factor50        2019            0.000   \n7127   鹏盛会计师事务所   AF_id_income        2019            0.000   \n\n      indicator_value_check  match  \n0                    22.000      1  \n1                   445.000      1  \n2                     8.000      1  \n3                    55.000      1  \n4              60499000.000      1  \n...                     ...    ...  \n7123                    NaN      0  \n7124                    NaN      0  \n7125                    NaN      0  \n7126                    NaN      0  \n7127                    NaN      0  \n\n[7128 rows x 6 columns]",
      "text/html": "<div>\n<style scoped>\n    .dataframe tbody tr th:only-of-type {\n        vertical-align: middle;\n    }\n\n    .dataframe tbody tr th {\n        vertical-align: top;\n    }\n\n    .dataframe thead th {\n        text-align: right;\n    }\n</style>\n<table border=\"1\" class=\"dataframe\">\n  <thead>\n    <tr style=\"text-align: right;\">\n      <th></th>\n      <th>AF_id_name</th>\n      <th>indicator_code</th>\n      <th>AF_id_year</th>\n      <th>indicator_value</th>\n      <th>indicator_value_check</th>\n      <th>match</th>\n    </tr>\n  </thead>\n  <tbody>\n    <tr>\n      <th>0</th>\n      <td>上会会计师事务所</td>\n      <td>AF_factor01</td>\n      <td>2021</td>\n      <td>22.000</td>\n      <td>22.000</td>\n      <td>1</td>\n    </tr>\n    <tr>\n      <th>1</th>\n      <td>上会会计师事务所</td>\n      <td>AF_factor02</td>\n      <td>2021</td>\n      <td>445.000</td>\n      <td>445.000</td>\n      <td>1</td>\n    </tr>\n    <tr>\n      <th>2</th>\n      <td>上会会计师事务所</td>\n      <td>AF_factor03</td>\n      <td>2021</td>\n      <td>8.000</td>\n      <td>8.000</td>\n      <td>1</td>\n    </tr>\n    <tr>\n      <th>3</th>\n      <td>上会会计师事务所</td>\n      <td>AF_factor04</td>\n      <td>2021</td>\n      <td>55.000</td>\n      <td>55.000</td>\n      <td>1</td>\n    </tr>\n    <tr>\n      <th>4</th>\n      <td>上会会计师事务所</td>\n      <td>AF_factor05</td>\n      <td>2021</td>\n      <td>60499000.000</td>\n      <td>60499000.000</td>\n      <td>1</td>\n    </tr>\n    <tr>\n      <th>...</th>\n      <td>...</td>\n      <td>...</td>\n      <td>...</td>\n      <td>...</td>\n      <td>...</td>\n      <td>...</td>\n    </tr>\n    <tr>\n      <th>7123</th>\n      <td>鹏盛会计师事务所</td>\n      <td>AF_factor50</td>\n      <td>2019</td>\n      <td>0.000</td>\n      <td>NaN</td>\n      <td>0</td>\n    </tr>\n    <tr>\n      <th>7124</th>\n      <td>鹏盛会计师事务所</td>\n      <td>AF_factor50</td>\n      <td>2019</td>\n      <td>0.000</td>\n      <td>NaN</td>\n      <td>0</td>\n    </tr>\n    <tr>\n      <th>7125</th>\n      <td>鹏盛会计师事务所</td>\n      <td>AF_factor50</td>\n      <td>2019</td>\n      <td>0.000</td>\n      <td>NaN</td>\n      <td>0</td>\n    </tr>\n    <tr>\n      <th>7126</th>\n      <td>鹏盛会计师事务所</td>\n      <td>AF_factor50</td>\n      <td>2019</td>\n      <td>0.000</td>\n      <td>NaN</td>\n      <td>0</td>\n    </tr>\n    <tr>\n      <th>7127</th>\n      <td>鹏盛会计师事务所</td>\n      <td>AF_id_income</td>\n      <td>2019</td>\n      <td>0.000</td>\n      <td>NaN</td>\n      <td>0</td>\n    </tr>\n  </tbody>\n</table>\n<p>7128 rows × 6 columns</p>\n</div>"
     },
     "execution_count": 8,
     "metadata": {},
     "output_type": "execute_result"
    }
   ],
   "source": [
    "check_result"
   ],
   "metadata": {
    "collapsed": false,
    "ExecuteTime": {
     "start_time": "2023-04-10T23:30:46.493260Z",
     "end_time": "2023-04-10T23:30:46.504553Z"
    }
   }
  },
  {
   "cell_type": "code",
   "execution_count": 9,
   "outputs": [],
   "source": [
    "# 排除误差小于等于0.01的，非比值的情况\n",
    "check_result['match'] = np.where(((check_result['indicator_code'] == 'AF_factor06')|(check_result['indicator_code'] == 'AF_factor07'))&(abs(check_result['indicator_value']-check_result['indicator_value_check'])<=0.01), 1, check_result['match'])"
   ],
   "metadata": {
    "collapsed": false,
    "ExecuteTime": {
     "start_time": "2023-04-10T23:30:46.501373Z",
     "end_time": "2023-04-10T23:30:46.504799Z"
    }
   }
  },
  {
   "cell_type": "code",
   "execution_count": 10,
   "outputs": [
    {
     "name": "stderr",
     "output_type": "stream",
     "text": [
      "/var/folders/21/r5tywv_91vz_8s1tgrs4qpjm0000gn/T/ipykernel_21668/841693994.py:2: SettingWithCopyWarning: \n",
      "A value is trying to be set on a copy of a slice from a DataFrame\n",
      "\n",
      "See the caveats in the documentation: https://pandas.pydata.org/pandas-docs/stable/user_guide/indexing.html#returning-a-view-versus-a-copy\n",
      "  check_result_error.dropna(subset='indicator_value_check', inplace=True)\n"
     ]
    }
   ],
   "source": [
    "check_result_error = check_result[check_result['match'] == 0]\n",
    "check_result_error.dropna(subset='indicator_value_check', inplace=True)\n",
    "# 重新确认缺失值\n",
    "check_result_error = check_result_error[check_result_error['indicator_code'] != 'AF_id_income']\n",
    "check_result_error = check_result_error[check_result_error['indicator_code'] != 'AF_factor01']  # 相同\n",
    "check_result_error = check_result_error[check_result_error['indicator_code'] != 'AF_factor02']  # 相同"
   ],
   "metadata": {
    "collapsed": false,
    "ExecuteTime": {
     "start_time": "2023-04-10T23:30:46.503865Z",
     "end_time": "2023-04-10T23:30:46.511212Z"
    }
   }
  },
  {
   "cell_type": "code",
   "execution_count": 11,
   "outputs": [],
   "source": [
    "# 排除【前五大客户】并列导致的问题\n",
    "check_result_error = check_result_error[check_result_error['indicator_code'] != 'AF_factor10']  # 自己错\n",
    "check_result_error = check_result_error[check_result_error['indicator_code'] != 'AF_factor10_0']  # 自己错"
   ],
   "metadata": {
    "collapsed": false,
    "ExecuteTime": {
     "start_time": "2023-04-10T23:30:46.508457Z",
     "end_time": "2023-04-10T23:30:46.514684Z"
    }
   }
  },
  {
   "cell_type": "code",
   "execution_count": 12,
   "outputs": [],
   "source": [
    "# 检查错误\n",
    "check_result_error = check_result_error[check_result_error['indicator_code'] != 'AF_factor19']  # 开发错 抽样5\n",
    "\n"
   ],
   "metadata": {
    "collapsed": false,
    "ExecuteTime": {
     "start_time": "2023-04-10T23:30:46.511817Z",
     "end_time": "2023-04-10T23:30:46.514816Z"
    }
   }
  },
  {
   "cell_type": "code",
   "execution_count": 13,
   "outputs": [
    {
     "data": {
      "text/plain": "      AF_id_name indicator_code  AF_id_year  indicator_value  \\\n19      上会会计师事务所  AF_factor18_0        2021           42.000   \n20      上会会计师事务所    AF_factor18        2021            0.760   \n23      上会会计师事务所    AF_factor20        2021            0.080   \n25      上会会计师事务所    AF_factor21        2021            0.050   \n59      上会会计师事务所    AF_factor15        2020            0.020   \n...          ...            ...         ...              ...   \n6801  苏亚金诚会计师事务所    AF_factor21        2020            0.190   \n6835  苏亚金诚会计师事务所    AF_factor15        2019            0.030   \n6843  苏亚金诚会计师事务所    AF_factor20        2019            0.040   \n7015    鹏盛会计师事务所  AF_factor18_0        2021            1.000   \n7016    鹏盛会计师事务所    AF_factor18        2021            0.500   \n\n      indicator_value_check  match  \n19                    1.000      0  \n20                    0.018      0  \n23                    0.081      0  \n25                    0.055      0  \n59                    0.022      0  \n...                     ...    ...  \n6801                  0.188      0  \n6835                  0.033      0  \n6843                  0.039      0  \n7015                  0.000      0  \n7016                  0.000      0  \n\n[659 rows x 6 columns]",
      "text/html": "<div>\n<style scoped>\n    .dataframe tbody tr th:only-of-type {\n        vertical-align: middle;\n    }\n\n    .dataframe tbody tr th {\n        vertical-align: top;\n    }\n\n    .dataframe thead th {\n        text-align: right;\n    }\n</style>\n<table border=\"1\" class=\"dataframe\">\n  <thead>\n    <tr style=\"text-align: right;\">\n      <th></th>\n      <th>AF_id_name</th>\n      <th>indicator_code</th>\n      <th>AF_id_year</th>\n      <th>indicator_value</th>\n      <th>indicator_value_check</th>\n      <th>match</th>\n    </tr>\n  </thead>\n  <tbody>\n    <tr>\n      <th>19</th>\n      <td>上会会计师事务所</td>\n      <td>AF_factor18_0</td>\n      <td>2021</td>\n      <td>42.000</td>\n      <td>1.000</td>\n      <td>0</td>\n    </tr>\n    <tr>\n      <th>20</th>\n      <td>上会会计师事务所</td>\n      <td>AF_factor18</td>\n      <td>2021</td>\n      <td>0.760</td>\n      <td>0.018</td>\n      <td>0</td>\n    </tr>\n    <tr>\n      <th>23</th>\n      <td>上会会计师事务所</td>\n      <td>AF_factor20</td>\n      <td>2021</td>\n      <td>0.080</td>\n      <td>0.081</td>\n      <td>0</td>\n    </tr>\n    <tr>\n      <th>25</th>\n      <td>上会会计师事务所</td>\n      <td>AF_factor21</td>\n      <td>2021</td>\n      <td>0.050</td>\n      <td>0.055</td>\n      <td>0</td>\n    </tr>\n    <tr>\n      <th>59</th>\n      <td>上会会计师事务所</td>\n      <td>AF_factor15</td>\n      <td>2020</td>\n      <td>0.020</td>\n      <td>0.022</td>\n      <td>0</td>\n    </tr>\n    <tr>\n      <th>...</th>\n      <td>...</td>\n      <td>...</td>\n      <td>...</td>\n      <td>...</td>\n      <td>...</td>\n      <td>...</td>\n    </tr>\n    <tr>\n      <th>6801</th>\n      <td>苏亚金诚会计师事务所</td>\n      <td>AF_factor21</td>\n      <td>2020</td>\n      <td>0.190</td>\n      <td>0.188</td>\n      <td>0</td>\n    </tr>\n    <tr>\n      <th>6835</th>\n      <td>苏亚金诚会计师事务所</td>\n      <td>AF_factor15</td>\n      <td>2019</td>\n      <td>0.030</td>\n      <td>0.033</td>\n      <td>0</td>\n    </tr>\n    <tr>\n      <th>6843</th>\n      <td>苏亚金诚会计师事务所</td>\n      <td>AF_factor20</td>\n      <td>2019</td>\n      <td>0.040</td>\n      <td>0.039</td>\n      <td>0</td>\n    </tr>\n    <tr>\n      <th>7015</th>\n      <td>鹏盛会计师事务所</td>\n      <td>AF_factor18_0</td>\n      <td>2021</td>\n      <td>1.000</td>\n      <td>0.000</td>\n      <td>0</td>\n    </tr>\n    <tr>\n      <th>7016</th>\n      <td>鹏盛会计师事务所</td>\n      <td>AF_factor18</td>\n      <td>2021</td>\n      <td>0.500</td>\n      <td>0.000</td>\n      <td>0</td>\n    </tr>\n  </tbody>\n</table>\n<p>659 rows × 6 columns</p>\n</div>"
     },
     "execution_count": 13,
     "metadata": {},
     "output_type": "execute_result"
    }
   ],
   "source": [
    "check_result_error"
   ],
   "metadata": {
    "collapsed": false,
    "ExecuteTime": {
     "start_time": "2023-04-10T23:30:46.517157Z",
     "end_time": "2023-04-10T23:30:46.519370Z"
    }
   }
  },
  {
   "cell_type": "code",
   "execution_count": 14,
   "outputs": [],
   "source": [
    "# check_result_error.to_excel(path + '结果测试_230331/测试结果_事务所_error_230407.xlsx', index=False)"
   ],
   "metadata": {
    "collapsed": false,
    "ExecuteTime": {
     "start_time": "2023-04-10T23:30:46.521057Z",
     "end_time": "2023-04-10T23:30:46.522360Z"
    }
   }
  },
  {
   "cell_type": "code",
   "execution_count": 14,
   "outputs": [],
   "source": [],
   "metadata": {
    "collapsed": false,
    "ExecuteTime": {
     "start_time": "2023-04-10T23:30:46.522533Z",
     "end_time": "2023-04-10T23:30:46.523727Z"
    }
   }
  }
 ],
 "metadata": {
  "kernelspec": {
   "display_name": "Python 3",
   "language": "python",
   "name": "python3"
  },
  "language_info": {
   "codemirror_mode": {
    "name": "ipython",
    "version": 2
   },
   "file_extension": ".py",
   "mimetype": "text/x-python",
   "name": "python",
   "nbconvert_exporter": "python",
   "pygments_lexer": "ipython2",
   "version": "2.7.6"
  }
 },
 "nbformat": 4,
 "nbformat_minor": 0
}
